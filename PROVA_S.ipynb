{
 "cells": [
  {
   "cell_type": "code",
   "execution_count": null,
   "id": "ecd48aae-b06a-4e63-830b-66bc7b998898",
   "metadata": {},
   "outputs": [],
   "source": [
    "Exercicio A"
   ]
  },
  {
   "cell_type": "code",
   "execution_count": 1,
   "id": "e5dbe296-4b0e-4b9e-8f63-e76de342292a",
   "metadata": {},
   "outputs": [
    {
     "name": "stdout",
     "output_type": "stream",
     "text": [
      "Lista original: [29, 10, 14, 37, 13]\n",
      "Lista ordenada: [10, 13, 14, 29, 37]\n",
      "Menor elemento da lista ordenada: 10\n"
     ]
    }
   ],
   "source": [
    "def bubble_sort(arr):\n",
    "    n = len(arr)\n",
    "    # Loop externo de 0 a n-1\n",
    "    for i in range(n):\n",
    "        # Loop interno até n-i-1 (os últimos i já estão ordenados)\n",
    "        for j in range(0, n - i - 1):\n",
    "            # Se o elemento atual for maior que o próximo, troca-os\n",
    "            if arr[j] > arr[j + 1]:\n",
    "                arr[j], arr[j + 1] = arr[j + 1], arr[j]\n",
    "    return arr\n",
    "\n",
    "def find_min(sorted_list):\n",
    "    # A lista está ordenada em ordem crescente, então o menor é o primeiro\n",
    "    if not sorted_list:\n",
    "        return None\n",
    "    return sorted_list[0]\n",
    "\n",
    "# Lista de exemplo\n",
    "lista = [29, 10, 14, 37, 13]\n",
    "\n",
    "# Ordenação\n",
    "lista_ordenada = bubble_sort(lista.copy())\n",
    "\n",
    "print(\"Lista original:\", lista)\n",
    "print(\"Lista ordenada:\", lista_ordenada)\n",
    "\n",
    "# Encontrar menor elemento\n",
    "menor = find_min(lista_ordenada)\n",
    "print(\"Menor elemento da lista ordenada:\", menor)"
   ]
  },
  {
   "cell_type": "code",
   "execution_count": null,
   "id": "6001cd4c-b0b2-4072-a4ff-9e796667ecaa",
   "metadata": {},
   "outputs": [],
   "source": [
    "Exercicio B"
   ]
  },
  {
   "cell_type": "code",
   "execution_count": 3,
   "id": "6b48d9d6-e950-4b22-8334-35051c7c00c0",
   "metadata": {},
   "outputs": [
    {
     "name": "stdout",
     "output_type": "stream",
     "text": [
      "True\n",
      "False\n"
     ]
    }
   ],
   "source": [
    "class Node:\n",
    "    def __init__(self, value):\n",
    "        self.value = value\n",
    "        self.left = None\n",
    "        self.right = None\n",
    "\n",
    "class BST:\n",
    "    def __init__(self):\n",
    "        self.root = None\n",
    "\n",
    "    def insert(self, value):\n",
    "        if self.root is None:\n",
    "            self.root = Node(value)\n",
    "        else:\n",
    "            self._insert(self.root, value)\n",
    "\n",
    "    def _insert(self, current_node, value):  # corrigido nome do parâmetro\n",
    "        # lacuna 1: inserção no lado esquerdo\n",
    "        if value < current_node.value:\n",
    "            if current_node.left is None:\n",
    "                current_node.left = Node(value)\n",
    "            else:\n",
    "                self._insert(current_node.left, value)\n",
    "        # lacuna 2: inserção no lado direito\n",
    "        elif value > current_node.value:\n",
    "            if current_node.right is None:\n",
    "                current_node.right = Node(value)\n",
    "            else:\n",
    "                self._insert(current_node.right, value)\n",
    "        # se igual, não insere duplicata\n",
    "\n",
    "    def search(self, value):\n",
    "        return self._search(self.root, value)\n",
    "\n",
    "    def _search(self, current_node, value):\n",
    "        # lacuna 3: casos base e recursão\n",
    "        if current_node is None:\n",
    "            return False\n",
    "        elif current_node.value == value:\n",
    "            return True\n",
    "        elif value < current_node.value:\n",
    "            return self._search(current_node.left, value)\n",
    "        else:\n",
    "            return self._search(current_node.right, value)\n",
    "\n",
    "# TESTE\n",
    "arvore = BST()\n",
    "arvore.insert(50)\n",
    "arvore.insert(30)\n",
    "arvore.insert(70)\n",
    "arvore.insert(20)\n",
    "\n",
    "print(arvore.search(30))  # deve retornar True\n",
    "print(arvore.search(60))  # deve retornar False"
   ]
  },
  {
   "cell_type": "code",
   "execution_count": null,
   "id": "b08f00ee-f688-4aa1-8597-451e237661a5",
   "metadata": {},
   "outputs": [],
   "source": []
  }
 ],
 "metadata": {
  "kernelspec": {
   "display_name": "Python [conda env:base] *",
   "language": "python",
   "name": "conda-base-py"
  },
  "language_info": {
   "codemirror_mode": {
    "name": "ipython",
    "version": 3
   },
   "file_extension": ".py",
   "mimetype": "text/x-python",
   "name": "python",
   "nbconvert_exporter": "python",
   "pygments_lexer": "ipython3",
   "version": "3.12.7"
  }
 },
 "nbformat": 4,
 "nbformat_minor": 5
}
