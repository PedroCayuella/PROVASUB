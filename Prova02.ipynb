{
 "cells": [
  {
   "cell_type": "code",
   "execution_count": 1,
   "id": "0f98c9f3-ce16-4d2d-8bda-ce3b5d34d18a",
   "metadata": {},
   "outputs": [
    {
     "name": "stdout",
     "output_type": "stream",
     "text": [
      "Lista original: [29, 10, 14, 37, 13]\n",
      "Lista ordenada: [10, 13, 14, 29, 37]\n",
      "Maior elemento: 37\n"
     ]
    }
   ],
   "source": [
    "def selection_sort(arr):\n",
    "    for i in range(len(arr)):\n",
    "        min_idx = i\n",
    "        for j in range(i + 1, len(arr)):\n",
    "            if arr[j] < arr[min_idx]:\n",
    "                min_idx = j\n",
    "        arr[i], arr[min_idx] = arr[min_idx], arr[i]\n",
    "    return arr\n",
    "\n",
    "def find_max(sorted_list):\n",
    "    # O maior elemento estará na última posição da lista ordenada\n",
    "    return sorted_list[-1]\n",
    "\n",
    "# Lista de exemplo\n",
    "lista = [29, 10, 14, 37, 13]\n",
    "print(\"Lista original:\", lista)\n",
    "\n",
    "# Ordena a lista\n",
    "sorted_list = selection_sort(lista)\n",
    "print(\"Lista ordenada:\", sorted_list)\n",
    "\n",
    "# Encontra e exibe o maior elemento\n",
    "print(\"Maior elemento:\", find_max(sorted_list))"
   ]
  },
  {
   "cell_type": "code",
   "execution_count": null,
   "id": "95a28de6-dc35-441f-8903-4b7de42332c5",
   "metadata": {},
   "outputs": [],
   "source": []
  }
 ],
 "metadata": {
  "kernelspec": {
   "display_name": "Python [conda env:base] *",
   "language": "python",
   "name": "conda-base-py"
  },
  "language_info": {
   "codemirror_mode": {
    "name": "ipython",
    "version": 3
   },
   "file_extension": ".py",
   "mimetype": "text/x-python",
   "name": "python",
   "nbconvert_exporter": "python",
   "pygments_lexer": "ipython3",
   "version": "3.12.7"
  }
 },
 "nbformat": 4,
 "nbformat_minor": 5
}
